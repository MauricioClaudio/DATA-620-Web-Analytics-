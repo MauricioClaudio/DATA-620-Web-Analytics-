{
 "cells": [
  {
   "cell_type": "markdown",
   "id": "e284b058-40f8-4cf0-a0e0-54a39062e99c",
   "metadata": {},
   "source": [
    "## DATA 620 Project 2\n",
    "#### CLAUDIO, Mauricio\n",
    "#### 12 March 2024\n",
    "___"
   ]
  },
  {
   "cell_type": "code",
   "execution_count": null,
   "id": "97d4d7b4-899f-44f3-9d3f-5a19545be490",
   "metadata": {},
   "outputs": [],
   "source": []
  }
 ],
 "metadata": {
  "kernelspec": {
   "display_name": "Python 3 (ipykernel)",
   "language": "python",
   "name": "python3"
  },
  "language_info": {
   "codemirror_mode": {
    "name": "ipython",
    "version": 3
   },
   "file_extension": ".py",
   "mimetype": "text/x-python",
   "name": "python",
   "nbconvert_exporter": "python",
   "pygments_lexer": "ipython3",
   "version": "3.8.18"
  }
 },
 "nbformat": 4,
 "nbformat_minor": 5
}
